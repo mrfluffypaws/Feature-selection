{
 "cells": [
  {
   "cell_type": "markdown",
   "metadata": {},
   "source": [
    "# Импорт необходимых библиотек"
   ]
  },
  {
   "cell_type": "code",
   "execution_count": 29,
   "metadata": {},
   "outputs": [],
   "source": [
    "import pandas as pd\n",
    "import numpy as np\n",
    "import seaborn as sns\n",
    "from sklearn.preprocessing import OneHotEncoder\n",
    "from sklearn.model_selection import train_test_split\n",
    "from sklearn.linear_model import LinearRegression\n",
    "from sklearn.feature_selection import SelectKBest, f_regression\n",
    "from sklearn.feature_selection import RFE\n",
    "from sklearn import metrics"
   ]
  },
  {
   "cell_type": "markdown",
   "metadata": {},
   "source": [
    "# Загрузка данных"
   ]
  },
  {
   "cell_type": "code",
   "execution_count": 2,
   "metadata": {},
   "outputs": [
    {
     "data": {
      "text/html": [
       "<div>\n",
       "<style scoped>\n",
       "    .dataframe tbody tr th:only-of-type {\n",
       "        vertical-align: middle;\n",
       "    }\n",
       "\n",
       "    .dataframe tbody tr th {\n",
       "        vertical-align: top;\n",
       "    }\n",
       "\n",
       "    .dataframe thead th {\n",
       "        text-align: right;\n",
       "    }\n",
       "</style>\n",
       "<table border=\"1\" class=\"dataframe\">\n",
       "  <thead>\n",
       "    <tr style=\"text-align: right;\">\n",
       "      <th></th>\n",
       "      <th>price</th>\n",
       "      <th>year</th>\n",
       "      <th>condition</th>\n",
       "      <th>cylinders</th>\n",
       "      <th>odometer</th>\n",
       "      <th>title_status</th>\n",
       "      <th>transmission</th>\n",
       "      <th>drive</th>\n",
       "      <th>size</th>\n",
       "      <th>lat</th>\n",
       "      <th>long</th>\n",
       "      <th>weather</th>\n",
       "    </tr>\n",
       "  </thead>\n",
       "  <tbody>\n",
       "    <tr>\n",
       "      <th>0</th>\n",
       "      <td>43900</td>\n",
       "      <td>2016</td>\n",
       "      <td>4</td>\n",
       "      <td>6</td>\n",
       "      <td>43500</td>\n",
       "      <td>clean</td>\n",
       "      <td>automatic</td>\n",
       "      <td>4wd</td>\n",
       "      <td>full-size</td>\n",
       "      <td>36.471500</td>\n",
       "      <td>-82.483400</td>\n",
       "      <td>59.0</td>\n",
       "    </tr>\n",
       "    <tr>\n",
       "      <th>1</th>\n",
       "      <td>15490</td>\n",
       "      <td>2009</td>\n",
       "      <td>2</td>\n",
       "      <td>8</td>\n",
       "      <td>98131</td>\n",
       "      <td>clean</td>\n",
       "      <td>automatic</td>\n",
       "      <td>4wd</td>\n",
       "      <td>full-size</td>\n",
       "      <td>40.468826</td>\n",
       "      <td>-74.281734</td>\n",
       "      <td>52.0</td>\n",
       "    </tr>\n",
       "    <tr>\n",
       "      <th>2</th>\n",
       "      <td>2495</td>\n",
       "      <td>2002</td>\n",
       "      <td>2</td>\n",
       "      <td>8</td>\n",
       "      <td>201803</td>\n",
       "      <td>clean</td>\n",
       "      <td>automatic</td>\n",
       "      <td>4wd</td>\n",
       "      <td>full-size</td>\n",
       "      <td>42.477134</td>\n",
       "      <td>-82.949564</td>\n",
       "      <td>45.0</td>\n",
       "    </tr>\n",
       "  </tbody>\n",
       "</table>\n",
       "</div>"
      ],
      "text/plain": [
       "   price  year  condition  cylinders  odometer title_status transmission  \\\n",
       "0  43900  2016          4          6     43500        clean    automatic   \n",
       "1  15490  2009          2          8     98131        clean    automatic   \n",
       "2   2495  2002          2          8    201803        clean    automatic   \n",
       "\n",
       "  drive       size        lat       long  weather  \n",
       "0   4wd  full-size  36.471500 -82.483400     59.0  \n",
       "1   4wd  full-size  40.468826 -74.281734     52.0  \n",
       "2   4wd  full-size  42.477134 -82.949564     45.0  "
      ]
     },
     "execution_count": 2,
     "metadata": {},
     "output_type": "execute_result"
    }
   ],
   "source": [
    "data = data = pd.read_excel('data/data_ford_price.xlsx')\n",
    "data.head(3) "
   ]
  },
  {
   "cell_type": "markdown",
   "metadata": {},
   "source": [
    "# Поиск пропусков "
   ]
  },
  {
   "cell_type": "code",
   "execution_count": 3,
   "metadata": {},
   "outputs": [
    {
     "data": {
      "text/plain": [
       "price              0\n",
       "year               0\n",
       "condition          0\n",
       "cylinders          0\n",
       "odometer           0\n",
       "title_status       0\n",
       "transmission       0\n",
       "drive            391\n",
       "size            1564\n",
       "lat                0\n",
       "long               0\n",
       "weather          180\n",
       "dtype: int64"
      ]
     },
     "execution_count": 3,
     "metadata": {},
     "output_type": "execute_result"
    }
   ],
   "source": [
    "data.isnull().sum()"
   ]
  },
  {
   "cell_type": "markdown",
   "metadata": {},
   "source": [
    "# Поиск наиболее популярных значений для обработки пропусков в категориальных признаках, а также поиск среднего значения для обработки пропусков в числовом признаке"
   ]
  },
  {
   "cell_type": "code",
   "execution_count": 4,
   "metadata": {},
   "outputs": [
    {
     "data": {
      "text/plain": [
       "drive\n",
       "4wd    4888\n",
       "rwd    1653\n",
       "fwd      85\n",
       "Name: count, dtype: int64"
      ]
     },
     "metadata": {},
     "output_type": "display_data"
    },
    {
     "data": {
      "text/plain": [
       "size\n",
       "full-size      4570\n",
       "mid-size        867\n",
       "compact          15\n",
       "sub-compact       1\n",
       "Name: count, dtype: int64"
      ]
     },
     "metadata": {},
     "output_type": "display_data"
    },
    {
     "data": {
      "text/plain": [
       "52.0"
      ]
     },
     "metadata": {},
     "output_type": "display_data"
    }
   ],
   "source": [
    "drive = data['drive'].value_counts() \n",
    "size = data['size'].value_counts() \n",
    "weather = data['weather'].mean().round(0)\n",
    "display(drive, size, weather)"
   ]
  },
  {
   "cell_type": "markdown",
   "metadata": {},
   "source": [
    "# Обработка пропусков"
   ]
  },
  {
   "cell_type": "code",
   "execution_count": 5,
   "metadata": {},
   "outputs": [
    {
     "data": {
      "text/plain": [
       "price           0\n",
       "year            0\n",
       "condition       0\n",
       "cylinders       0\n",
       "odometer        0\n",
       "title_status    0\n",
       "transmission    0\n",
       "drive           0\n",
       "size            0\n",
       "lat             0\n",
       "long            0\n",
       "weather         0\n",
       "dtype: int64"
      ]
     },
     "execution_count": 5,
     "metadata": {},
     "output_type": "execute_result"
    }
   ],
   "source": [
    "data['weather'] = data['weather'].fillna(np.round(np.mean(data['weather']),0))\n",
    "data['size'] = data['size'].fillna('full-size')\n",
    "data['drive'] = data['drive'].fillna('4wd')\n",
    "data.isnull().sum()"
   ]
  },
  {
   "cell_type": "markdown",
   "metadata": {},
   "source": [
    "# Построение мтрицы корреляции"
   ]
  },
  {
   "cell_type": "code",
   "execution_count": 6,
   "metadata": {},
   "outputs": [
    {
     "data": {
      "text/plain": [
       "<Axes: >"
      ]
     },
     "execution_count": 6,
     "metadata": {},
     "output_type": "execute_result"
    },
    {
     "data": {
      "image/png": "[encoded data removed]",
      "text/plain": [
       "<Figure size 640x480 with 2 Axes>"
      ]
     },
     "metadata": {},
     "output_type": "display_data"
    }
   ],
   "source": [
    "sns.heatmap(data.corr(numeric_only=True), annot=True)"
   ]
  },
  {
   "cell_type": "markdown",
   "metadata": {},
   "source": [
    "# Удаление признака с высокой корреляцией"
   ]
  },
  {
   "cell_type": "code",
   "execution_count": 13,
   "metadata": {},
   "outputs": [
    {
     "name": "stdout",
     "output_type": "stream",
     "text": [
      "<class 'pandas.core.frame.DataFrame'>\n",
      "RangeIndex: 7017 entries, 0 to 7016\n",
      "Data columns (total 11 columns):\n",
      " #   Column        Non-Null Count  Dtype  \n",
      "---  ------        --------------  -----  \n",
      " 0   price         7017 non-null   int64  \n",
      " 1   year          7017 non-null   int64  \n",
      " 2   condition     7017 non-null   int64  \n",
      " 3   cylinders     7017 non-null   int64  \n",
      " 4   odometer      7017 non-null   int64  \n",
      " 5   title_status  7017 non-null   object \n",
      " 6   transmission  7017 non-null   object \n",
      " 7   drive         7017 non-null   object \n",
      " 8   size          7017 non-null   object \n",
      " 9   long          7017 non-null   float64\n",
      " 10  weather       7017 non-null   float64\n",
      "dtypes: float64(2), int64(5), object(4)\n",
      "memory usage: 603.1+ KB\n"
     ]
    }
   ],
   "source": [
    "data = data.drop(columns='lat',axis=1)\n",
    "data.info()"
   ]
  },
  {
   "cell_type": "markdown",
   "metadata": {},
   "source": [
    "# Кодирование признаков"
   ]
  },
  {
   "cell_type": "code",
   "execution_count": 14,
   "metadata": {},
   "outputs": [
    {
     "data": {
      "text/html": [
       "<div>\n",
       "<style scoped>\n",
       "    .dataframe tbody tr th:only-of-type {\n",
       "        vertical-align: middle;\n",
       "    }\n",
       "\n",
       "    .dataframe tbody tr th {\n",
       "        vertical-align: top;\n",
       "    }\n",
       "\n",
       "    .dataframe thead th {\n",
       "        text-align: right;\n",
       "    }\n",
       "</style>\n",
       "<table border=\"1\" class=\"dataframe\">\n",
       "  <thead>\n",
       "    <tr style=\"text-align: right;\">\n",
       "      <th></th>\n",
       "      <th>price</th>\n",
       "      <th>year</th>\n",
       "      <th>condition</th>\n",
       "      <th>odometer</th>\n",
       "      <th>long</th>\n",
       "      <th>weather</th>\n",
       "      <th>cylinders_3</th>\n",
       "      <th>cylinders_4</th>\n",
       "      <th>cylinders_5</th>\n",
       "      <th>cylinders_6</th>\n",
       "      <th>...</th>\n",
       "      <th>transmission_automatic</th>\n",
       "      <th>transmission_manual</th>\n",
       "      <th>transmission_other</th>\n",
       "      <th>drive_4wd</th>\n",
       "      <th>drive_fwd</th>\n",
       "      <th>drive_rwd</th>\n",
       "      <th>size_compact</th>\n",
       "      <th>size_full-size</th>\n",
       "      <th>size_mid-size</th>\n",
       "      <th>size_sub-compact</th>\n",
       "    </tr>\n",
       "  </thead>\n",
       "  <tbody>\n",
       "    <tr>\n",
       "      <th>0</th>\n",
       "      <td>43900</td>\n",
       "      <td>2016</td>\n",
       "      <td>4</td>\n",
       "      <td>43500</td>\n",
       "      <td>-82.483400</td>\n",
       "      <td>59.0</td>\n",
       "      <td>0.0</td>\n",
       "      <td>0.0</td>\n",
       "      <td>0.0</td>\n",
       "      <td>1.0</td>\n",
       "      <td>...</td>\n",
       "      <td>1.0</td>\n",
       "      <td>0.0</td>\n",
       "      <td>0.0</td>\n",
       "      <td>1.0</td>\n",
       "      <td>0.0</td>\n",
       "      <td>0.0</td>\n",
       "      <td>0.0</td>\n",
       "      <td>1.0</td>\n",
       "      <td>0.0</td>\n",
       "      <td>0.0</td>\n",
       "    </tr>\n",
       "    <tr>\n",
       "      <th>1</th>\n",
       "      <td>15490</td>\n",
       "      <td>2009</td>\n",
       "      <td>2</td>\n",
       "      <td>98131</td>\n",
       "      <td>-74.281734</td>\n",
       "      <td>52.0</td>\n",
       "      <td>0.0</td>\n",
       "      <td>0.0</td>\n",
       "      <td>0.0</td>\n",
       "      <td>0.0</td>\n",
       "      <td>...</td>\n",
       "      <td>1.0</td>\n",
       "      <td>0.0</td>\n",
       "      <td>0.0</td>\n",
       "      <td>1.0</td>\n",
       "      <td>0.0</td>\n",
       "      <td>0.0</td>\n",
       "      <td>0.0</td>\n",
       "      <td>1.0</td>\n",
       "      <td>0.0</td>\n",
       "      <td>0.0</td>\n",
       "    </tr>\n",
       "    <tr>\n",
       "      <th>2</th>\n",
       "      <td>2495</td>\n",
       "      <td>2002</td>\n",
       "      <td>2</td>\n",
       "      <td>201803</td>\n",
       "      <td>-82.949564</td>\n",
       "      <td>45.0</td>\n",
       "      <td>0.0</td>\n",
       "      <td>0.0</td>\n",
       "      <td>0.0</td>\n",
       "      <td>0.0</td>\n",
       "      <td>...</td>\n",
       "      <td>1.0</td>\n",
       "      <td>0.0</td>\n",
       "      <td>0.0</td>\n",
       "      <td>1.0</td>\n",
       "      <td>0.0</td>\n",
       "      <td>0.0</td>\n",
       "      <td>0.0</td>\n",
       "      <td>1.0</td>\n",
       "      <td>0.0</td>\n",
       "      <td>0.0</td>\n",
       "    </tr>\n",
       "  </tbody>\n",
       "</table>\n",
       "<p>3 rows × 27 columns</p>\n",
       "</div>"
      ],
      "text/plain": [
       "   price  year  condition  odometer       long  weather  cylinders_3  \\\n",
       "0  43900  2016          4     43500 -82.483400     59.0          0.0   \n",
       "1  15490  2009          2     98131 -74.281734     52.0          0.0   \n",
       "2   2495  2002          2    201803 -82.949564     45.0          0.0   \n",
       "\n",
       "   cylinders_4  cylinders_5  cylinders_6  ...  transmission_automatic  \\\n",
       "0          0.0          0.0          1.0  ...                     1.0   \n",
       "1          0.0          0.0          0.0  ...                     1.0   \n",
       "2          0.0          0.0          0.0  ...                     1.0   \n",
       "\n",
       "   transmission_manual  transmission_other  drive_4wd  drive_fwd  drive_rwd  \\\n",
       "0                  0.0                 0.0        1.0        0.0        0.0   \n",
       "1                  0.0                 0.0        1.0        0.0        0.0   \n",
       "2                  0.0                 0.0        1.0        0.0        0.0   \n",
       "\n",
       "   size_compact  size_full-size  size_mid-size  size_sub-compact  \n",
       "0           0.0             1.0            0.0               0.0  \n",
       "1           0.0             1.0            0.0               0.0  \n",
       "2           0.0             1.0            0.0               0.0  \n",
       "\n",
       "[3 rows x 27 columns]"
      ]
     },
     "execution_count": 14,
     "metadata": {},
     "output_type": "execute_result"
    }
   ],
   "source": [
    "columns_to_encoding = ['cylinders', 'title_status', 'transmission', 'drive', 'size']\n",
    "one_hot_encoder = OneHotEncoder()\n",
    "data_encoding = one_hot_encoder.fit_transform(data[columns_to_encoding]).toarray()\n",
    "columns_names = one_hot_encoder.get_feature_names_out(columns_to_encoding)\n",
    "data_encoding = pd.DataFrame(data_encoding, index=data.index, columns=columns_names)\n",
    "data = pd.concat([data, data_encoding], axis=1) \n",
    "data = data.drop(columns=columns_to_encoding)\n",
    "data.head(3)"
   ]
  },
  {
   "cell_type": "markdown",
   "metadata": {},
   "source": [
    "# Создание тренировочной и тестовой выборок для обучения модели"
   ]
  },
  {
   "cell_type": "code",
   "execution_count": 15,
   "metadata": {},
   "outputs": [],
   "source": [
    "x = data.drop('price', axis=1)\n",
    "y = data['price']\n",
    "\n",
    "X_train, X_test, y_train, y_test = train_test_split(x, y, test_size=0.2, random_state=42)"
   ]
  },
  {
   "cell_type": "markdown",
   "metadata": {},
   "source": [
    "# Метод рекурсивного исключения признаков"
   ]
  },
  {
   "cell_type": "code",
   "execution_count": 16,
   "metadata": {},
   "outputs": [
    {
     "data": {
      "text/plain": [
       "array(['size_compact', 'size_full-size', 'size_sub-compact'], dtype=object)"
      ]
     },
     "execution_count": 16,
     "metadata": {},
     "output_type": "execute_result"
    }
   ],
   "source": [
    "estimator = LinearRegression()\n",
    "selecter = RFE(estimator, n_features_to_select=3, step=1)\n",
    "selecter.fit(X_train, y_train)\n",
    "selecter.get_feature_names_out()"
   ]
  },
  {
   "cell_type": "markdown",
   "metadata": {},
   "source": [
    "# Метод отбора признаков на основе фильтров"
   ]
  },
  {
   "cell_type": "code",
   "execution_count": 19,
   "metadata": {},
   "outputs": [
    {
     "data": {
      "text/plain": [
       "array(['year', 'condition', 'odometer'], dtype=object)"
      ]
     },
     "execution_count": 19,
     "metadata": {},
     "output_type": "execute_result"
    }
   ],
   "source": [
    "selecter_2 = SelectKBest(f_regression, k=3)\n",
    "selecter_2.fit(X_train, y_train)\n",
    "selecter_2.get_feature_names_out()"
   ]
  },
  {
   "cell_type": "markdown",
   "metadata": {},
   "source": [
    "# Разбиение данных на тренировочную и тестовую выборки согласно результату работы метода рекурсивного исключения признаков"
   ]
  },
  {
   "cell_type": "code",
   "execution_count": 24,
   "metadata": {},
   "outputs": [],
   "source": [
    "x_rfe = data[['size_compact', 'size_full-size', 'size_sub-compact']]\n",
    "y_rfe = data['price']\n",
    "\n",
    "X_train_rfe, X_test_rfe, y_train_rfe, y_test_rfe = train_test_split(x_rfe, y_rfe, test_size=0.2, random_state=42)"
   ]
  },
  {
   "cell_type": "markdown",
   "metadata": {},
   "source": [
    "# Обучение модели на признаках метода рекурсивного исключения признаков"
   ]
  },
  {
   "cell_type": "code",
   "execution_count": 35,
   "metadata": {},
   "outputs": [
    {
     "name": "stdout",
     "output_type": "stream",
     "text": [
      "R^2 score: 0.04\n"
     ]
    }
   ],
   "source": [
    "model = LinearRegression()\n",
    "model.fit(X_train_rfe, y_train_rfe)\n",
    "y_pred_rfe = model.predict(X_test_rfe)\n",
    "print('R^2 score: {:.2f}'.format(metrics.r2_score(y_test_rfe, y_pred_rfe)))"
   ]
  },
  {
   "cell_type": "markdown",
   "metadata": {},
   "source": [
    "# Разбиение данных на тренировочную и тестовую выборки согласно результату работы метода отбора признаков на основе фильтров"
   ]
  },
  {
   "cell_type": "code",
   "execution_count": 26,
   "metadata": {},
   "outputs": [],
   "source": [
    "x_skb = data[['year', 'condition', 'odometer']]\n",
    "y_skb = data['price']\n",
    "\n",
    "X_train_skb, X_test_skb, y_train_skb, y_test_skb = train_test_split(x_skb, y_skb, test_size=0.2, random_state=42)"
   ]
  },
  {
   "cell_type": "markdown",
   "metadata": {},
   "source": [
    "# Обучение модели на признаках метода отбора признаков на основе фильтров"
   ]
  },
  {
   "cell_type": "code",
   "execution_count": 34,
   "metadata": {},
   "outputs": [
    {
     "name": "stdout",
     "output_type": "stream",
     "text": [
      "R^2 score: 0.42\n"
     ]
    }
   ],
   "source": [
    "model_2 = LinearRegression()\n",
    "model_2.fit(X_train_skb, y_train_skb)\n",
    "y_pred_skb = model_2.predict(X_test_skb)\n",
    "print('R^2 score: {:.2f}'.format(metrics.r2_score(y_test_skb, y_pred_skb)))"
   ]
  },
  {
   "cell_type": "markdown",
   "metadata": {},
   "source": [
    "# Обучение модели на основе всех признкаов"
   ]
  },
  {
   "cell_type": "code",
   "execution_count": 33,
   "metadata": {},
   "outputs": [
    {
     "name": "stdout",
     "output_type": "stream",
     "text": [
      "R^2 score: 0.42\n"
     ]
    }
   ],
   "source": [
    "model_3 = LinearRegression()\n",
    "model_3.fit(X_train, y_train)\n",
    "y_pred = model_3.predict(X_test)\n",
    "print('R^2 score: {:.2f}'.format(metrics.r2_score(y_test, y_pred)))"
   ]
  },
  {
   "cell_type": "markdown",
   "metadata": {},
   "source": [
    "##### Согласно результату обучения всех моделей на разном количестве признаков, наихудшим методом отбора признаков оказался метод рекурсивного исключения, поскольку показывает наихудший результат работы модели - 0.04. Метод отбора признаков на основе фильтров показал себя гораздо лучше, поскольку увеличил качество модели на 0.38 пунктов(90.48%), однако, как и в предыдущем случае модель является недообученной. При обучении модели на всех признаках, модель, так же как и в случае обучения на признаках, отобранных методом на основе фильтров, показывает неудовлетворительный результат (R 2 score: 0.42), что в свою очередь также говорит о недообученности модели. Предполагаю плохое качество модели можно исправить применив стандартизацию к данным.       "
   ]
  },
  {
   "cell_type": "code",
   "execution_count": 42,
   "metadata": {},
   "outputs": [
    {
     "data": {
      "text/html": [
       "<div>\n",
       "<style scoped>\n",
       "    .dataframe tbody tr th:only-of-type {\n",
       "        vertical-align: middle;\n",
       "    }\n",
       "\n",
       "    .dataframe tbody tr th {\n",
       "        vertical-align: top;\n",
       "    }\n",
       "\n",
       "    .dataframe thead th {\n",
       "        text-align: right;\n",
       "    }\n",
       "</style>\n",
       "<table border=\"1\" class=\"dataframe\">\n",
       "  <thead>\n",
       "    <tr style=\"text-align: right;\">\n",
       "      <th></th>\n",
       "      <th>price</th>\n",
       "      <th>year</th>\n",
       "      <th>condition</th>\n",
       "      <th>odometer</th>\n",
       "      <th>long</th>\n",
       "      <th>weather</th>\n",
       "      <th>cylinders_3</th>\n",
       "      <th>cylinders_4</th>\n",
       "      <th>cylinders_5</th>\n",
       "      <th>cylinders_6</th>\n",
       "      <th>...</th>\n",
       "      <th>transmission_automatic</th>\n",
       "      <th>transmission_manual</th>\n",
       "      <th>transmission_other</th>\n",
       "      <th>drive_4wd</th>\n",
       "      <th>drive_fwd</th>\n",
       "      <th>drive_rwd</th>\n",
       "      <th>size_compact</th>\n",
       "      <th>size_full-size</th>\n",
       "      <th>size_mid-size</th>\n",
       "      <th>size_sub-compact</th>\n",
       "    </tr>\n",
       "  </thead>\n",
       "  <tbody>\n",
       "    <tr>\n",
       "      <th>0</th>\n",
       "      <td>2.446193</td>\n",
       "      <td>1.165656</td>\n",
       "      <td>1.991596</td>\n",
       "      <td>-0.850559</td>\n",
       "      <td>0.671433</td>\n",
       "      <td>0.873805</td>\n",
       "      <td>-0.011939</td>\n",
       "      <td>-0.039624</td>\n",
       "      <td>-0.026703</td>\n",
       "      <td>1.493043</td>\n",
       "      <td>...</td>\n",
       "      <td>0.214626</td>\n",
       "      <td>-0.201963</td>\n",
       "      <td>-0.069778</td>\n",
       "      <td>0.573785</td>\n",
       "      <td>-0.110734</td>\n",
       "      <td>-0.555127</td>\n",
       "      <td>-0.046284</td>\n",
       "      <td>0.37941</td>\n",
       "      <td>-0.375467</td>\n",
       "      <td>-0.011939</td>\n",
       "    </tr>\n",
       "    <tr>\n",
       "      <th>1</th>\n",
       "      <td>0.031319</td>\n",
       "      <td>0.162048</td>\n",
       "      <td>-0.850879</td>\n",
       "      <td>-0.242979</td>\n",
       "      <td>1.256025</td>\n",
       "      <td>-0.017733</td>\n",
       "      <td>-0.011939</td>\n",
       "      <td>-0.039624</td>\n",
       "      <td>-0.026703</td>\n",
       "      <td>-0.669773</td>\n",
       "      <td>...</td>\n",
       "      <td>0.214626</td>\n",
       "      <td>-0.201963</td>\n",
       "      <td>-0.069778</td>\n",
       "      <td>0.573785</td>\n",
       "      <td>-0.110734</td>\n",
       "      <td>-0.555127</td>\n",
       "      <td>-0.046284</td>\n",
       "      <td>0.37941</td>\n",
       "      <td>-0.375467</td>\n",
       "      <td>-0.011939</td>\n",
       "    </tr>\n",
       "    <tr>\n",
       "      <th>2</th>\n",
       "      <td>-1.073268</td>\n",
       "      <td>-0.841561</td>\n",
       "      <td>-0.850879</td>\n",
       "      <td>0.910011</td>\n",
       "      <td>0.638206</td>\n",
       "      <td>-0.909272</td>\n",
       "      <td>-0.011939</td>\n",
       "      <td>-0.039624</td>\n",
       "      <td>-0.026703</td>\n",
       "      <td>-0.669773</td>\n",
       "      <td>...</td>\n",
       "      <td>0.214626</td>\n",
       "      <td>-0.201963</td>\n",
       "      <td>-0.069778</td>\n",
       "      <td>0.573785</td>\n",
       "      <td>-0.110734</td>\n",
       "      <td>-0.555127</td>\n",
       "      <td>-0.046284</td>\n",
       "      <td>0.37941</td>\n",
       "      <td>-0.375467</td>\n",
       "      <td>-0.011939</td>\n",
       "    </tr>\n",
       "  </tbody>\n",
       "</table>\n",
       "<p>3 rows × 27 columns</p>\n",
       "</div>"
      ],
      "text/plain": [
       "      price      year  condition  odometer      long   weather  cylinders_3  \\\n",
       "0  2.446193  1.165656   1.991596 -0.850559  0.671433  0.873805    -0.011939   \n",
       "1  0.031319  0.162048  -0.850879 -0.242979  1.256025 -0.017733    -0.011939   \n",
       "2 -1.073268 -0.841561  -0.850879  0.910011  0.638206 -0.909272    -0.011939   \n",
       "\n",
       "   cylinders_4  cylinders_5  cylinders_6  ...  transmission_automatic  \\\n",
       "0    -0.039624    -0.026703     1.493043  ...                0.214626   \n",
       "1    -0.039624    -0.026703    -0.669773  ...                0.214626   \n",
       "2    -0.039624    -0.026703    -0.669773  ...                0.214626   \n",
       "\n",
       "   transmission_manual  transmission_other  drive_4wd  drive_fwd  drive_rwd  \\\n",
       "0            -0.201963           -0.069778   0.573785  -0.110734  -0.555127   \n",
       "1            -0.201963           -0.069778   0.573785  -0.110734  -0.555127   \n",
       "2            -0.201963           -0.069778   0.573785  -0.110734  -0.555127   \n",
       "\n",
       "   size_compact  size_full-size  size_mid-size  size_sub-compact  \n",
       "0     -0.046284         0.37941      -0.375467         -0.011939  \n",
       "1     -0.046284         0.37941      -0.375467         -0.011939  \n",
       "2     -0.046284         0.37941      -0.375467         -0.011939  \n",
       "\n",
       "[3 rows x 27 columns]"
      ]
     },
     "execution_count": 42,
     "metadata": {},
     "output_type": "execute_result"
    }
   ],
   "source": [
    "from sklearn.preprocessing import StandardScaler\n",
    "\n",
    "data_scaled = data.copy()\n",
    "col_names = data.columns\n",
    "x = data_scaled[col_names]\n",
    "\n",
    "scaler = StandardScaler()\n",
    "data_scaled[col_names] = scaler.fit_transform(x.values)\n",
    "data_scaled.head(3) "
   ]
  },
  {
   "cell_type": "code",
   "execution_count": 43,
   "metadata": {},
   "outputs": [],
   "source": [
    "x = data_scaled.drop('price', axis=1)\n",
    "y = data_scaled['price']\n",
    "\n",
    "X_train, X_test, y_train, y_test = train_test_split(x, y, test_size=0.2, random_state=42)"
   ]
  },
  {
   "cell_type": "code",
   "execution_count": 44,
   "metadata": {},
   "outputs": [
    {
     "data": {
      "text/plain": [
       "array(['drive_4wd', 'drive_fwd', 'drive_rwd'], dtype=object)"
      ]
     },
     "execution_count": 44,
     "metadata": {},
     "output_type": "execute_result"
    }
   ],
   "source": [
    "estimator = LinearRegression()\n",
    "selecter = RFE(estimator, n_features_to_select=3, step=1)\n",
    "selecter.fit(X_train, y_train)\n",
    "selecter.get_feature_names_out()"
   ]
  },
  {
   "cell_type": "code",
   "execution_count": 49,
   "metadata": {},
   "outputs": [
    {
     "name": "stdout",
     "output_type": "stream",
     "text": [
      "R^2 score: 0.07\n"
     ]
    }
   ],
   "source": [
    "x_rfe = data_scaled[['drive_4wd', 'drive_fwd', 'drive_rwd']]\n",
    "y_rfe = data_scaled['price']\n",
    "\n",
    "X_train_rfe, X_test_rfe, y_train_rfe, y_test_rfe = train_test_split(x_rfe, y_rfe, test_size=0.2, random_state=42)\n",
    "\n",
    "model_4 = LinearRegression()\n",
    "model_4.fit(X_train_rfe, y_train_rfe)\n",
    "y_pred_rfe = model_4.predict(X_test_rfe)\n",
    "print('R^2 score: {:.2f}'.format(metrics.r2_score(y_test_rfe, y_pred_rfe)))"
   ]
  },
  {
   "cell_type": "code",
   "execution_count": 45,
   "metadata": {},
   "outputs": [
    {
     "data": {
      "text/plain": [
       "array(['year', 'condition', 'odometer'], dtype=object)"
      ]
     },
     "execution_count": 45,
     "metadata": {},
     "output_type": "execute_result"
    }
   ],
   "source": [
    "selecter = SelectKBest(f_regression, k=3)\n",
    "selecter.fit(X_train, y_train)\n",
    "selecter.get_feature_names_out()"
   ]
  },
  {
   "cell_type": "code",
   "execution_count": 50,
   "metadata": {},
   "outputs": [
    {
     "name": "stdout",
     "output_type": "stream",
     "text": [
      "R^2 score: 0.42\n"
     ]
    }
   ],
   "source": [
    "x_skb = data_scaled[['year', 'condition', 'odometer']]\n",
    "y_skb = data_scaled['price']\n",
    "\n",
    "X_train_skb, X_test_skb, y_train_skb, y_test_skb = train_test_split(x_skb, y_skb, test_size=0.2, random_state=42)\n",
    "\n",
    "model_5 = LinearRegression()\n",
    "model_5.fit(X_train_skb, y_train_skb)\n",
    "y_pred_skb = model_5.predict(X_test_skb)\n",
    "print('R^2 score: {:.2f}'.format(metrics.r2_score(y_test_skb, y_pred_skb)))"
   ]
  },
  {
   "cell_type": "code",
   "execution_count": 51,
   "metadata": {},
   "outputs": [
    {
     "name": "stdout",
     "output_type": "stream",
     "text": [
      "R^2 score: 0.46\n"
     ]
    }
   ],
   "source": [
    "model_6 = LinearRegression()\n",
    "model_6.fit(X_train, y_train)\n",
    "y_pred = model_6.predict(X_test)\n",
    "print('R^2 score: {:.2f}'.format(metrics.r2_score(y_test, y_pred)))"
   ]
  },
  {
   "cell_type": "markdown",
   "metadata": {},
   "source": [
    "##### После проведения стандартизации данных и повторном обучении моделей на описанных ранее методах выбора признаков и на всех данных, качество моделей изменялось следующим образом:\n",
    "* Модель по методу RFE - R 2 score: 0.07. Результат, по сравнению с предыдущим, увеличился на 0.03 пункта, однако это по прежнему наихудшая из всех моделей;\n",
    "* Модель по методу на основе фильтрации - R 2 score: 0.42. Результат, по сравнению с предыдущим, не изменился;\n",
    "* Модель обученная на всех данных - R 2 score: 0.46. Результат, по сравнению с предыдущим изменился на 0.02 пункта.\n",
    "\n",
    "К сожалению все модели по прежнему имеют неудовлетворительное качество. Предполагаю, что для достижения удовлетворительного результата обучения нужно воспользоваться более сложными моделями, например, градиентный спуск."
   ]
  }
 ],
 "metadata": {
  "kernelspec": {
   "display_name": "Python 3",
   "language": "python",
   "name": "python3"
  },
  "language_info": {
   "codemirror_mode": {
    "name": "ipython",
    "version": 3
   },
   "file_extension": ".py",
   "mimetype": "text/x-python",
   "name": "python",
   "nbconvert_exporter": "python",
   "pygments_lexer": "ipython3",
   "version": "3.9.10"
  }
 },
 "nbformat": 4,
 "nbformat_minor": 2
}
